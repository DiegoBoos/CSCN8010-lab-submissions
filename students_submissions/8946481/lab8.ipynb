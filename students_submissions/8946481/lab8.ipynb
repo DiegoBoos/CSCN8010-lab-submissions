{
 "cells": [
  {
   "cell_type": "markdown",
   "metadata": {},
   "source": [
    "### **Pytorch**\n",
    "\n",
    "1. Calculate the dot product between two vectors each of length 3 using PyTorch"
   ]
  },
  {
   "cell_type": "code",
   "execution_count": 1,
   "metadata": {},
   "outputs": [],
   "source": [
    "import torch"
   ]
  },
  {
   "cell_type": "code",
   "execution_count": 2,
   "metadata": {},
   "outputs": [
    {
     "name": "stdout",
     "output_type": "stream",
     "text": [
      "Dot product using PyTorch: 116\n"
     ]
    }
   ],
   "source": [
    "# Calculate dot product of two vectors using PyTorch\n",
    "vector1 = torch.tensor([8, 9, 4])\n",
    "vector2 = torch.tensor([6, 4, 8])\n",
    "\n",
    "# Calculate dot product\n",
    "dot_product = torch.dot(vector1, vector2)\n",
    "\n",
    "print(\"Dot product using PyTorch:\", dot_product.item())"
   ]
  },
  {
   "cell_type": "markdown",
   "metadata": {},
   "source": [
    "2. Calculate the matrix multiplication of two 2-dimensional matrices, each with a size of (2,2) using PyTorch"
   ]
  },
  {
   "cell_type": "code",
   "execution_count": 3,
   "metadata": {},
   "outputs": [
    {
     "name": "stdout",
     "output_type": "stream",
     "text": [
      "Matrix multiplication using PyTorch:\n",
      " tensor([[64, 72],\n",
      "        [81, 81]])\n"
     ]
    }
   ],
   "source": [
    "# Calculate matrix multiplication using PyTorch\n",
    "matrix1 = torch.tensor([[1, 7], [0, 9]])\n",
    "matrix2 = torch.tensor([[1, 9], [9, 9]])\n",
    "\n",
    "# Calculate matrix product\n",
    "matrix_product = torch.mm(matrix1, matrix2)\n",
    "\n",
    "print(\"Matrix multiplication using PyTorch:\\n\", matrix_product)"
   ]
  },
  {
   "cell_type": "markdown",
   "metadata": {},
   "source": [
    "### **TensorFlow**\n",
    "\n",
    "1. Calculate the dot product between the same vectors as above (re-define them in Tensorflow)"
   ]
  },
  {
   "cell_type": "code",
   "execution_count": 1,
   "metadata": {},
   "outputs": [],
   "source": [
    "import tensorflow as tf"
   ]
  },
  {
   "cell_type": "code",
   "execution_count": 6,
   "metadata": {},
   "outputs": [
    {
     "name": "stdout",
     "output_type": "stream",
     "text": [
      "Dot product using Tensorflow: 116\n"
     ]
    }
   ],
   "source": [
    "# Calculate dot product of two vectors using Tensorflow\n",
    "tf_vector1 = tf.constant([8, 9, 4])\n",
    "tf_vector2 = tf.constant([6, 4, 8])\n",
    "\n",
    "# Calculate dot product\n",
    "tf_dot_product = tf.tensordot(tf_vector1, tf_vector2, axes=1)\n",
    "\n",
    "print(\"Dot product using Tensorflow:\", tf_dot_product.numpy())"
   ]
  },
  {
   "cell_type": "markdown",
   "metadata": {},
   "source": [
    "2. Calculate the matrix multiplication of the same matrices as above (re-define them in Tensorflow)"
   ]
  },
  {
   "cell_type": "code",
   "execution_count": 7,
   "metadata": {},
   "outputs": [
    {
     "name": "stdout",
     "output_type": "stream",
     "text": [
      "Matrix multiplication using Tensorflow:\n",
      " tf.Tensor(\n",
      "[[64 72]\n",
      " [81 81]], shape=(2, 2), dtype=int32)\n"
     ]
    }
   ],
   "source": [
    "# Calculate matrix multiplication using Tensorflow\n",
    "tf_matrix1 = tf.constant([[1, 7], [0, 9]])\n",
    "tf_matrix2 = tf.constant([[1, 9], [9, 9]])\n",
    "\n",
    "# Calculate matrix product\n",
    "tf_matrix_product = tf.matmul(tf_matrix1, tf_matrix2)\n",
    "\n",
    "print(\"Matrix multiplication using Tensorflow:\\n\", tf_matrix_product)"
   ]
  }
 ],
 "metadata": {
  "kernelspec": {
   "display_name": "tensorflow_apple_silicon",
   "language": "python",
   "name": "tensorflow_apple_silicon"
  },
  "language_info": {
   "codemirror_mode": {
    "name": "ipython",
    "version": 3
   },
   "file_extension": ".py",
   "mimetype": "text/x-python",
   "name": "python",
   "nbconvert_exporter": "python",
   "pygments_lexer": "ipython3",
   "version": "3.11.5"
  }
 },
 "nbformat": 4,
 "nbformat_minor": 2
}
