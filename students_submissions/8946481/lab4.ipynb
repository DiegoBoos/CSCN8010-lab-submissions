{
 "cells": [
  {
   "cell_type": "code",
   "execution_count": 205,
   "metadata": {},
   "outputs": [],
   "source": [
    "from sklearn import datasets\n",
    "from sklearn.linear_model import LinearRegression\n",
    "from sklearn.metrics import mean_absolute_error, mean_absolute_percentage_error, r2_score\n",
    "from sklearn.model_selection import train_test_split\n",
    "from sklearn.preprocessing import PolynomialFeatures"
   ]
  },
  {
   "cell_type": "markdown",
   "metadata": {},
   "source": [
    "### 1. Get the data, and run the train-test split with the starting code."
   ]
  },
  {
   "cell_type": "code",
   "execution_count": 206,
   "metadata": {},
   "outputs": [],
   "source": [
    "X, y = datasets.load_diabetes(as_frame=True, scaled=False, return_X_y=True)\n",
    "\n",
    "X_train, X_test, y_train, y_test = train_test_split(X, y, test_size=0.2, random_state=42)"
   ]
  },
  {
   "cell_type": "markdown",
   "metadata": {},
   "source": [
    "### 2. Running a Multivariate Linear Regression"
   ]
  },
  {
   "cell_type": "code",
   "execution_count": 207,
   "metadata": {},
   "outputs": [],
   "source": [
    "mv_model = LinearRegression()\n",
    "\n",
    "# Fitting the model to the train data \n",
    "mv_model.fit(X_train,y_train)\n",
    "\n",
    "# Make predictions on the train set\n",
    "y_pred_train = mv_model.predict(X_train)\n",
    "\n",
    "# Make predictions on the testing set\n",
    "y_pred_test = mv_model.predict(X_test)"
   ]
  },
  {
   "cell_type": "markdown",
   "metadata": {},
   "source": [
    "### 3. Multivariate Polynomial Regression on the BMI feature"
   ]
  },
  {
   "cell_type": "code",
   "execution_count": 208,
   "metadata": {},
   "outputs": [],
   "source": [
    "def create_polynomial_model(degree, X_train, X_test):\n",
    "    \n",
    "    # Use PolynomialFeatures to create polynomials as a new feature\n",
    "    poly_features = PolynomialFeatures(degree=degree, include_bias=False)\n",
    "    \n",
    "    X_train_poly = poly_features.fit_transform(X_train)   \n",
    "    X_test_poly = poly_features.transform(X_test)\n",
    "    \n",
    "    # Create a linear model\n",
    "    poly_model = LinearRegression()\n",
    "    poly_model.fit(X_train_poly, y_train)\n",
    "    \n",
    "    return poly_model, poly_features, X_train_poly, X_test_poly"
   ]
  },
  {
   "cell_type": "code",
   "execution_count": 209,
   "metadata": {},
   "outputs": [],
   "source": [
    "bmi_X_train = X_train['bmi'].values.reshape(-1,1)\n",
    "bmi_X_test = X_test['bmi'].values.reshape(-1,1)\n",
    "bmi_model, bmi_features, bmi_X_train, bmi_X_test = create_polynomial_model(degree=2, X_train=bmi_X_train, X_test=bmi_X_test)"
   ]
  },
  {
   "cell_type": "code",
   "execution_count": 210,
   "metadata": {},
   "outputs": [],
   "source": [
    "# Make predictions on the train set\n",
    "bmi_y_pred_train = bmi_model.predict(bmi_X_train)\n",
    "\n",
    "# Make predictions on the testing set\n",
    "bmi_y_pred_test = bmi_model.predict(bmi_X_test)"
   ]
  },
  {
   "cell_type": "markdown",
   "metadata": {},
   "source": [
    "### 4. Multivariate Polynomial Regression"
   ]
  },
  {
   "cell_type": "code",
   "execution_count": 211,
   "metadata": {},
   "outputs": [],
   "source": [
    "poly_model, poly_features, X_train_poly, X_test_poly = create_polynomial_model(degree=2, X_train=X_train, X_test=X_test)"
   ]
  },
  {
   "cell_type": "code",
   "execution_count": 212,
   "metadata": {},
   "outputs": [],
   "source": [
    "# Make predictions on the train set\n",
    "poly_y_pred_train = poly_model.predict(X_train_poly)\n",
    "\n",
    "# Make predictions on the testing set\n",
    "poly_y_pred_test = poly_model.predict(X_test_poly)"
   ]
  },
  {
   "cell_type": "markdown",
   "metadata": {},
   "source": [
    "### 5. Compare the three models by looking at R-squared, MAPE and MAE"
   ]
  },
  {
   "cell_type": "code",
   "execution_count": 213,
   "metadata": {},
   "outputs": [],
   "source": [
    "def calculate_metrics(y_test, y_pred_test):\n",
    "    \"\"\"\n",
    "    Calculate the MAE and MAPE of the model.\n",
    "    Inputs:\n",
    "        y_test: the true y values of the test dataset\n",
    "        y_pred_test: the predicted y values of the test dataset\n",
    "    \"\"\"\n",
    "    print(f'Mean Absolute Error: {mean_absolute_error(y_test, y_pred_test):.2f}')\n",
    "    print(f'Mean Absolute Percentage Error: {(mean_absolute_percentage_error(y_test, y_pred_test)):.2f}')\n",
    "    print(f'R-Squared: {(r2_score(y_test, y_pred_test)):.2f}')"
   ]
  },
  {
   "cell_type": "code",
   "execution_count": 214,
   "metadata": {},
   "outputs": [
    {
     "name": "stdout",
     "output_type": "stream",
     "text": [
      "Mean Absolute Error: 42.79\n",
      "Mean Absolute Percentage Error: 0.37\n",
      "R-Squared: 0.45\n"
     ]
    }
   ],
   "source": [
    "# Calculate the R-squared, MAE and MAPE of the multivariate linear regression model\n",
    "calculate_metrics(y_test, y_pred_test)"
   ]
  },
  {
   "cell_type": "code",
   "execution_count": 215,
   "metadata": {},
   "outputs": [
    {
     "name": "stdout",
     "output_type": "stream",
     "text": [
      "Mean Absolute Error: 52.38\n",
      "Mean Absolute Percentage Error: 0.46\n",
      "R-Squared: 0.23\n"
     ]
    }
   ],
   "source": [
    "# Calculate the R-squared, MAE and MAPE of the multivariate polynomial regression model on the BMI feature only\n",
    "calculate_metrics(y_test, bmi_y_pred_test)"
   ]
  },
  {
   "cell_type": "code",
   "execution_count": 216,
   "metadata": {},
   "outputs": [
    {
     "name": "stdout",
     "output_type": "stream",
     "text": [
      "Mean Absolute Error: 43.58\n",
      "Mean Absolute Percentage Error: 0.38\n",
      "R-Squared: 0.42\n"
     ]
    }
   ],
   "source": [
    "# Calculate the R-squared, MAE and MAPE of the multivariate polynomial regression model on the BMI feature only\n",
    "calculate_metrics(y_test, poly_y_pred_test)"
   ]
  },
  {
   "cell_type": "markdown",
   "metadata": {},
   "source": [
    "**R-Squared** \n",
    "<p> Measures how well the model captures the patterns in the data. The closer the value of R-squared\n",
    "  is to 1, the better the model is at explaining and predicting expected values. On the other hand, a lower R-squared value may suggest that the data of the model is not varying at all.</p>\n",
    "\n",
    "**Mean Absolute Percentage Error (MAPE)** \n",
    "<p> Measures the average percentage difference between the predicted and actual values. A lower MAPE indicates better accuracy. </p>\n",
    "\n",
    "**Mean Absolute Error (MAE)** \n",
    "<p> Measures the average absolute difference between the predicted and actual values, and also a lower MAE indicates better accuracy. </p>\n",
    "\n",
    "*I would choose the linear regression model because it has a lower MAE and a higher R-Squeared. However, it is also important to mention that in this case, the difference between the MAE and MAPE is not significant and the polynomial regression model could be used as well.*"
   ]
  },
  {
   "cell_type": "markdown",
   "metadata": {},
   "source": [
    "### 6.1 How many parameters are we fitting for in linear regression and in the polynomial "
   ]
  },
  {
   "cell_type": "markdown",
   "metadata": {},
   "source": [
    "<p> In linear regression, the parameters are the features (independent variables) that will be used to predict the target (dependent variable). </p>"
   ]
  },
  {
   "cell_type": "code",
   "execution_count": 217,
   "metadata": {},
   "outputs": [
    {
     "name": "stdout",
     "output_type": "stream",
     "text": [
      "Parameters of the linear regression model:\n",
      " ['age' 'sex' 'bmi' 'bp' 's1' 's2' 's3' 's4' 's5' 's6'] \n",
      "\n",
      "Total length:\n",
      " 10\n"
     ]
    }
   ],
   "source": [
    "linear_params = mv_model.feature_names_in_\n",
    "print(\"Parameters of the linear regression model:\\n\",linear_params,\"\\n\") \n",
    "print(\"Total length:\\n\",len(linear_params))"
   ]
  },
  {
   "cell_type": "markdown",
   "metadata": {},
   "source": [
    "<p> In polynomial regression, the parameters are the features (independent variables) that will be used to predict the target (dependent variable) plus the degree of the polynomial, it would show the coefficients for each term in the polynomial depending on the degree, in this case as the degree is 2 the values would be represented like this (f1,f2,f3...fn, f1^2, f1*f2...f1*fn) </p>"
   ]
  },
  {
   "cell_type": "code",
   "execution_count": 218,
   "metadata": {},
   "outputs": [
    {
     "name": "stdout",
     "output_type": "stream",
     "text": [
      "Parameters of the polynomial regression model:\n",
      " ['age' 'sex' 'bmi' 'bp' 's1' 's2' 's3' 's4' 's5' 's6' 'age^2' 'age sex'\n",
      " 'age bmi' 'age bp' 'age s1' 'age s2' 'age s3' 'age s4' 'age s5' 'age s6'\n",
      " 'sex^2' 'sex bmi' 'sex bp' 'sex s1' 'sex s2' 'sex s3' 'sex s4' 'sex s5'\n",
      " 'sex s6' 'bmi^2' 'bmi bp' 'bmi s1' 'bmi s2' 'bmi s3' 'bmi s4' 'bmi s5'\n",
      " 'bmi s6' 'bp^2' 'bp s1' 'bp s2' 'bp s3' 'bp s4' 'bp s5' 'bp s6' 's1^2'\n",
      " 's1 s2' 's1 s3' 's1 s4' 's1 s5' 's1 s6' 's2^2' 's2 s3' 's2 s4' 's2 s5'\n",
      " 's2 s6' 's3^2' 's3 s4' 's3 s5' 's3 s6' 's4^2' 's4 s5' 's4 s6' 's5^2'\n",
      " 's5 s6' 's6^2'] \n",
      "\n",
      "Total length:\n",
      " 65\n"
     ]
    }
   ],
   "source": [
    "poly_params = poly_features.get_feature_names_out()\n",
    "print(\"Parameters of the polynomial regression model:\\n\",poly_params,\"\\n\")\n",
    "print(\"Total length:\\n\",len(poly_params))"
   ]
  },
  {
   "cell_type": "markdown",
   "metadata": {},
   "source": [
    "### 6.2. Which model would you choose for deployment, and why?"
   ]
  },
  {
   "cell_type": "markdown",
   "metadata": {},
   "source": [
    "<p> Comparing the results of the MAE and MAPE metrics, I would choose the linear regression model, because it has a lower MAE and a higher R-Squeared, with a small difference with MAPE. However it is also important to mention that the difference between them is not significant and the polynomial regression model could be used as well. </p>"
   ]
  }
 ],
 "metadata": {
  "kernelspec": {
   "display_name": "Python 3",
   "language": "python",
   "name": "python3"
  },
  "language_info": {
   "codemirror_mode": {
    "name": "ipython",
    "version": 3
   },
   "file_extension": ".py",
   "mimetype": "text/x-python",
   "name": "python",
   "nbconvert_exporter": "python",
   "pygments_lexer": "ipython3",
   "version": "3.11.5"
  }
 },
 "nbformat": 4,
 "nbformat_minor": 2
}
