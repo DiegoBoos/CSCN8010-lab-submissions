{
 "cells": [
  {
   "cell_type": "code",
   "execution_count": 2,
   "metadata": {},
   "outputs": [],
   "source": [
    "from tensorflow import keras\n",
    "import matplotlib.pyplot as plt\n",
    "import os, shutil, pathlib"
   ]
  },
  {
   "cell_type": "markdown",
   "metadata": {},
   "source": [
    "### 1. Obtaining the data"
   ]
  },
  {
   "cell_type": "code",
   "execution_count": 3,
   "metadata": {},
   "outputs": [],
   "source": [
    "# Getting the paths of the directories of the downloaded dataset\n",
    "train_dir = pathlib.Path('/Users/diegobolanos/Downloads/birds/train')\n",
    "test_dir = pathlib.Path('/Users/diegobolanos/Downloads/birds/test')\n",
    "validation_dir = pathlib.Path('/Users/diegobolanos/Downloads/birds/valid')"
   ]
  },
  {
   "cell_type": "markdown",
   "metadata": {},
   "source": [
    "#### Extracting the classes with the highest number of images"
   ]
  },
  {
   "cell_type": "code",
   "execution_count": 4,
   "metadata": {},
   "outputs": [
    {
     "name": "stdout",
     "output_type": "stream",
     "text": [
      "[('RUFOUS TREPE', 263), ('HOUSE FINCH', 248), ('OVENBIRD', 233)]\n"
     ]
    }
   ],
   "source": [
    "# Filter the top three classes with the highest number of images\n",
    "folders_images_count = {}\n",
    "\n",
    "# Loop through the train directory and get the number of images in each folder\n",
    "for bird_species in os.listdir(train_dir):\n",
    "    bird_species_dir_names = os.path.join(train_dir, bird_species)\n",
    "    # Check if the path is a directory\n",
    "    if os.path.isdir(bird_species_dir_names):\n",
    "        folder_name = os.path.basename(bird_species_dir_names)\n",
    "        image_name = os.listdir(bird_species_dir_names)\n",
    "        folders_images_count[folder_name] = len(image_name)\n",
    "\n",
    "# Sort the dictionary descendingly and get the top three classes\n",
    "top_species = sorted(folders_images_count.items(), key=lambda x: x[1], reverse=True)[:3]\n",
    "print(top_species)"
   ]
  },
  {
   "cell_type": "code",
   "execution_count": 5,
   "metadata": {},
   "outputs": [],
   "source": [
    "# Helper code to remove the data folder\n",
    "\n",
    "new_base_dir = pathlib.Path(\"./data\")\n",
    "\n",
    "if os.path.exists(new_base_dir):\n",
    "    shutil.rmtree(new_base_dir)\n"
   ]
  },
  {
   "cell_type": "code",
   "execution_count": 6,
   "metadata": {},
   "outputs": [],
   "source": [
    "# Create the data folder for the top three classes\n",
    "\n",
    "top_3_species_names = [class_name[0] for class_name in top_species]\n",
    "new_base_dir = pathlib.Path(\"./data/kaggle_birds_top_3\")\n",
    "\n",
    "def make_top_3_subset(subset_name,original_dir):\n",
    "    for specie_name in top_3_species_names:\n",
    "        dir = new_base_dir / subset_name / specie_name\n",
    "        os.makedirs(dir)\n",
    "        original_images = os.listdir(original_dir / specie_name)\n",
    "        for image in original_images:\n",
    "            src = original_dir / specie_name / image\n",
    "            dst = dir / image\n",
    "            shutil.copyfile(src, dst)\n",
    "        \n",
    "make_top_3_subset(\"train\",train_dir)\n",
    "make_top_3_subset(\"test\",test_dir)\n",
    "make_top_3_subset(\"valid\",validation_dir)"
   ]
  },
  {
   "cell_type": "markdown",
   "metadata": {},
   "source": [
    "### Feature extraction with a pretrained model"
   ]
  },
  {
   "cell_type": "markdown",
   "metadata": {},
   "source": [
    "We will use the VGG16 model, which is a model trained on the ImageNet dataset, we need to specify some parameters to have a successful feature extraction, we will use the following parameters:\n",
    "\n",
    "weights: specifies the weight checkpoint from which to initialize the model.\n",
    "\n",
    "include_top=False: refers to not including the \"head\" of the model."
   ]
  },
  {
   "cell_type": "code",
   "execution_count": 41,
   "metadata": {},
   "outputs": [],
   "source": [
    "conv_base = keras.applications.vgg16.VGG16(\n",
    "    weights=\"imagenet\",\n",
    "    include_top=False,\n",
    "    input_shape=(224, 224, 3))"
   ]
  },
  {
   "cell_type": "code",
   "execution_count": 43,
   "metadata": {},
   "outputs": [
    {
     "name": "stdout",
     "output_type": "stream",
     "text": [
      "Found 744 files belonging to 3 classes.\n",
      "Found 15 files belonging to 3 classes.\n",
      "Found 15 files belonging to 3 classes.\n"
     ]
    }
   ],
   "source": [
    "from keras.utils import image_dataset_from_directory\n",
    "from keras import layers\n",
    "\n",
    "data_folder = pathlib.Path(\"./data/kaggle_birds_top_3\")\n",
    "\n",
    "train_dataset = image_dataset_from_directory(\n",
    "    data_folder / \"train\",\n",
    "    image_size=(224, 224),\n",
    "    batch_size=32)\n",
    "validation_dataset = image_dataset_from_directory(\n",
    "    data_folder / \"valid\",\n",
    "    image_size=(224, 224),\n",
    "    batch_size=32)\n",
    "test_dataset = image_dataset_from_directory(\n",
    "    data_folder / \"test\",\n",
    "    image_size=(224, 224),\n",
    "    batch_size=32)"
   ]
  },
  {
   "cell_type": "markdown",
   "metadata": {},
   "source": [
    "### Get the training, testing and validation data from the pretrained model"
   ]
  },
  {
   "cell_type": "code",
   "execution_count": 44,
   "metadata": {},
   "outputs": [
    {
     "name": "stdout",
     "output_type": "stream",
     "text": [
      "1/1 [==============================] - 1s 1s/step\n",
      "1/1 [==============================] - 0s 299ms/step\n",
      "1/1 [==============================] - 0s 44ms/step\n",
      "1/1 [==============================] - 0s 16ms/step\n",
      "1/1 [==============================] - 0s 19ms/step\n",
      "1/1 [==============================] - 0s 17ms/step\n",
      "1/1 [==============================] - 0s 18ms/step\n",
      "1/1 [==============================] - 0s 43ms/step\n",
      "1/1 [==============================] - 0s 32ms/step\n",
      "1/1 [==============================] - 0s 36ms/step\n",
      "1/1 [==============================] - 0s 33ms/step\n",
      "1/1 [==============================] - 0s 19ms/step\n",
      "1/1 [==============================] - 0s 41ms/step\n",
      "1/1 [==============================] - 0s 31ms/step\n",
      "1/1 [==============================] - 0s 30ms/step\n",
      "1/1 [==============================] - 0s 39ms/step\n",
      "1/1 [==============================] - 0s 27ms/step\n",
      "1/1 [==============================] - 0s 18ms/step\n",
      "1/1 [==============================] - 0s 22ms/step\n",
      "1/1 [==============================] - 0s 78ms/step\n",
      "1/1 [==============================] - 0s 52ms/step\n",
      "1/1 [==============================] - 0s 47ms/step\n",
      "1/1 [==============================] - 0s 31ms/step\n",
      "1/1 [==============================] - 0s 271ms/step\n",
      "1/1 [==============================] - 1s 677ms/step\n",
      "1/1 [==============================] - 0s 17ms/step\n"
     ]
    }
   ],
   "source": [
    "import numpy as np\n",
    "\n",
    "def get_features_and_labels(dataset):\n",
    "    all_features = []\n",
    "    all_labels = []\n",
    "    for images, labels in dataset:\n",
    "        preprocessed_images = keras.applications.vgg16.preprocess_input(images)\n",
    "        features = conv_base.predict(preprocessed_images)\n",
    "        all_features.append(features)\n",
    "        all_labels.append(labels)\n",
    "    return np.concatenate(all_features), np.concatenate(all_labels)\n",
    "\n",
    "train_features, train_labels =  get_features_and_labels(train_dataset)\n",
    "val_features, val_labels =  get_features_and_labels(validation_dataset)\n",
    "test_features, test_labels =  get_features_and_labels(test_dataset)"
   ]
  },
  {
   "cell_type": "code",
   "execution_count": 45,
   "metadata": {},
   "outputs": [
    {
     "name": "stdout",
     "output_type": "stream",
     "text": [
      "Model: \"vgg16\"\n",
      "_________________________________________________________________\n",
      " Layer (type)                Output Shape              Param #   \n",
      "=================================================================\n",
      " input_7 (InputLayer)        [(None, 224, 224, 3)]     0         \n",
      "                                                                 \n",
      " block1_conv1 (Conv2D)       (None, 224, 224, 64)      1792      \n",
      "                                                                 \n",
      " block1_conv2 (Conv2D)       (None, 224, 224, 64)      36928     \n",
      "                                                                 \n",
      " block1_pool (MaxPooling2D)  (None, 112, 112, 64)      0         \n",
      "                                                                 \n",
      " block2_conv1 (Conv2D)       (None, 112, 112, 128)     73856     \n",
      "                                                                 \n",
      " block2_conv2 (Conv2D)       (None, 112, 112, 128)     147584    \n",
      "                                                                 \n"
     ]
    },
    {
     "name": "stdout",
     "output_type": "stream",
     "text": [
      " block2_pool (MaxPooling2D)  (None, 56, 56, 128)       0         \n",
      "                                                                 \n",
      " block3_conv1 (Conv2D)       (None, 56, 56, 256)       295168    \n",
      "                                                                 \n",
      " block3_conv2 (Conv2D)       (None, 56, 56, 256)       590080    \n",
      "                                                                 \n",
      " block3_conv3 (Conv2D)       (None, 56, 56, 256)       590080    \n",
      "                                                                 \n",
      " block3_pool (MaxPooling2D)  (None, 28, 28, 256)       0         \n",
      "                                                                 \n",
      " block4_conv1 (Conv2D)       (None, 28, 28, 512)       1180160   \n",
      "                                                                 \n",
      " block4_conv2 (Conv2D)       (None, 28, 28, 512)       2359808   \n",
      "                                                                 \n",
      " block4_conv3 (Conv2D)       (None, 28, 28, 512)       2359808   \n",
      "                                                                 \n",
      " block4_pool (MaxPooling2D)  (None, 14, 14, 512)       0         \n",
      "                                                                 \n",
      " block5_conv1 (Conv2D)       (None, 14, 14, 512)       2359808   \n",
      "                                                                 \n",
      " block5_conv2 (Conv2D)       (None, 14, 14, 512)       2359808   \n",
      "                                                                 \n",
      " block5_conv3 (Conv2D)       (None, 14, 14, 512)       2359808   \n",
      "                                                                 \n",
      " block5_pool (MaxPooling2D)  (None, 7, 7, 512)         0         \n",
      "                                                                 \n",
      "=================================================================\n",
      "Total params: 14714688 (56.13 MB)\n",
      "Trainable params: 14714688 (56.13 MB)\n",
      "Non-trainable params: 0 (0.00 Byte)\n",
      "_________________________________________________________________\n"
     ]
    }
   ],
   "source": [
    "conv_base.summary()"
   ]
  },
  {
   "cell_type": "code",
   "execution_count": 46,
   "metadata": {},
   "outputs": [
    {
     "data": {
      "text/plain": [
       "(744, 7, 7, 512)"
      ]
     },
     "execution_count": 46,
     "metadata": {},
     "output_type": "execute_result"
    }
   ],
   "source": [
    "train_features.shape"
   ]
  },
  {
   "cell_type": "markdown",
   "metadata": {},
   "source": [
    "These are 744 images for each of the two classes, and then a 5x5 spatial matrix with a depth of 512 filters."
   ]
  },
  {
   "cell_type": "code",
   "execution_count": 56,
   "metadata": {},
   "outputs": [],
   "source": [
    "inputs = keras.Input(shape=(7, 7, 512))\n",
    "x = layers.Flatten()(inputs)\n",
    "x = layers.Dense(256)(x)\n",
    "x = layers.Dropout(0.5)(x)\n",
    "outputs = layers.Dense(1, activation=\"softmax\")(x)\n",
    "model = keras.Model(inputs, outputs)"
   ]
  },
  {
   "cell_type": "code",
   "execution_count": 57,
   "metadata": {},
   "outputs": [
    {
     "name": "stdout",
     "output_type": "stream",
     "text": [
      "Model: \"model_7\"\n",
      "_________________________________________________________________\n",
      " Layer (type)                Output Shape              Param #   \n",
      "=================================================================\n",
      " input_10 (InputLayer)       [(None, 224, 224, 3)]     0         \n",
      "                                                                 \n",
      " flatten_9 (Flatten)         (None, 150528)            0         \n",
      "                                                                 \n",
      " dense_17 (Dense)            (None, 256)               38535424  \n",
      "                                                                 \n",
      " dropout_8 (Dropout)         (None, 256)               0         \n",
      "                                                                 \n",
      " dense_18 (Dense)            (None, 1)                 257       \n",
      "                                                                 \n",
      "=================================================================\n",
      "Total params: 38535681 (147.00 MB)\n",
      "Trainable params: 38535681 (147.00 MB)\n",
      "Non-trainable params: 0 (0.00 Byte)\n",
      "_________________________________________________________________\n"
     ]
    }
   ],
   "source": [
    "model.summary()"
   ]
  },
  {
   "cell_type": "markdown",
   "metadata": {},
   "source": [
    "**Defining and training the densely connected classifier**\n",
    "\n",
    "Here we define a new dense neural networks, of only two (neuronal/trainable) layers."
   ]
  },
  {
   "cell_type": "code",
   "execution_count": 58,
   "metadata": {},
   "outputs": [
    {
     "name": "stdout",
     "output_type": "stream",
     "text": [
      "Epoch 1/20\n"
     ]
    },
    {
     "ename": "ValueError",
     "evalue": "in user code:\n\n    File \"/Users/diegobolanos/miniconda/envs/tensorflow_metal/lib/python3.10/site-packages/keras/src/engine/training.py\", line 1377, in train_function  *\n        return step_function(self, iterator)\n    File \"/Users/diegobolanos/miniconda/envs/tensorflow_metal/lib/python3.10/site-packages/keras/src/engine/training.py\", line 1360, in step_function  **\n        outputs = model.distribute_strategy.run(run_step, args=(data,))\n    File \"/Users/diegobolanos/miniconda/envs/tensorflow_metal/lib/python3.10/site-packages/keras/src/engine/training.py\", line 1349, in run_step  **\n        outputs = model.train_step(data)\n    File \"/Users/diegobolanos/miniconda/envs/tensorflow_metal/lib/python3.10/site-packages/keras/src/engine/training.py\", line 1126, in train_step\n        y_pred = self(x, training=True)\n    File \"/Users/diegobolanos/miniconda/envs/tensorflow_metal/lib/python3.10/site-packages/keras/src/utils/traceback_utils.py\", line 70, in error_handler\n        raise e.with_traceback(filtered_tb) from None\n    File \"/Users/diegobolanos/miniconda/envs/tensorflow_metal/lib/python3.10/site-packages/keras/src/engine/input_spec.py\", line 298, in assert_input_compatibility\n        raise ValueError(\n\n    ValueError: Input 0 of layer \"model_7\" is incompatible with the layer: expected shape=(None, 224, 224, 3), found shape=(None, 7, 7, 512)\n",
     "output_type": "error",
     "traceback": [
      "\u001b[0;31m---------------------------------------------------------------------------\u001b[0m",
      "\u001b[0;31mValueError\u001b[0m                                Traceback (most recent call last)",
      "\u001b[1;32m/Users/diegobolanos/Library/CloudStorage/OneDrive-ConestogaCollege/Foundations Machine Learning Framework/CSCN8010-lab-submissions/students_submissions/8946481/lab10.ipynb Cell 20\u001b[0m line \u001b[0;36m1\n\u001b[1;32m      <a href='vscode-notebook-cell:/Users/diegobolanos/Library/CloudStorage/OneDrive-ConestogaCollege/Foundations%20Machine%20Learning%20Framework/CSCN8010-lab-submissions/students_submissions/8946481/lab10.ipynb#X21sZmlsZQ%3D%3D?line=0'>1</a>\u001b[0m model\u001b[39m.\u001b[39mcompile(\n\u001b[1;32m      <a href='vscode-notebook-cell:/Users/diegobolanos/Library/CloudStorage/OneDrive-ConestogaCollege/Foundations%20Machine%20Learning%20Framework/CSCN8010-lab-submissions/students_submissions/8946481/lab10.ipynb#X21sZmlsZQ%3D%3D?line=1'>2</a>\u001b[0m     loss\u001b[39m=\u001b[39m\u001b[39m'\u001b[39m\u001b[39mcategorical_crossentropy\u001b[39m\u001b[39m'\u001b[39m,\n\u001b[1;32m      <a href='vscode-notebook-cell:/Users/diegobolanos/Library/CloudStorage/OneDrive-ConestogaCollege/Foundations%20Machine%20Learning%20Framework/CSCN8010-lab-submissions/students_submissions/8946481/lab10.ipynb#X21sZmlsZQ%3D%3D?line=2'>3</a>\u001b[0m     optimizer\u001b[39m=\u001b[39m\u001b[39m'\u001b[39m\u001b[39madam\u001b[39m\u001b[39m'\u001b[39m,\n\u001b[1;32m      <a href='vscode-notebook-cell:/Users/diegobolanos/Library/CloudStorage/OneDrive-ConestogaCollege/Foundations%20Machine%20Learning%20Framework/CSCN8010-lab-submissions/students_submissions/8946481/lab10.ipynb#X21sZmlsZQ%3D%3D?line=3'>4</a>\u001b[0m     metrics\u001b[39m=\u001b[39m[\u001b[39m'\u001b[39m\u001b[39maccuracy\u001b[39m\u001b[39m'\u001b[39m]\n\u001b[1;32m      <a href='vscode-notebook-cell:/Users/diegobolanos/Library/CloudStorage/OneDrive-ConestogaCollege/Foundations%20Machine%20Learning%20Framework/CSCN8010-lab-submissions/students_submissions/8946481/lab10.ipynb#X21sZmlsZQ%3D%3D?line=4'>5</a>\u001b[0m )\n\u001b[1;32m      <a href='vscode-notebook-cell:/Users/diegobolanos/Library/CloudStorage/OneDrive-ConestogaCollege/Foundations%20Machine%20Learning%20Framework/CSCN8010-lab-submissions/students_submissions/8946481/lab10.ipynb#X21sZmlsZQ%3D%3D?line=6'>7</a>\u001b[0m callbacks \u001b[39m=\u001b[39m [\n\u001b[1;32m      <a href='vscode-notebook-cell:/Users/diegobolanos/Library/CloudStorage/OneDrive-ConestogaCollege/Foundations%20Machine%20Learning%20Framework/CSCN8010-lab-submissions/students_submissions/8946481/lab10.ipynb#X21sZmlsZQ%3D%3D?line=7'>8</a>\u001b[0m     keras\u001b[39m.\u001b[39mcallbacks\u001b[39m.\u001b[39mModelCheckpoint(\n\u001b[1;32m      <a href='vscode-notebook-cell:/Users/diegobolanos/Library/CloudStorage/OneDrive-ConestogaCollege/Foundations%20Machine%20Learning%20Framework/CSCN8010-lab-submissions/students_submissions/8946481/lab10.ipynb#X21sZmlsZQ%3D%3D?line=8'>9</a>\u001b[0m       filepath\u001b[39m=\u001b[39m\u001b[39m\"\u001b[39m\u001b[39m./models/feature_extraction\u001b[39m\u001b[39m\"\u001b[39m,\n\u001b[1;32m     <a href='vscode-notebook-cell:/Users/diegobolanos/Library/CloudStorage/OneDrive-ConestogaCollege/Foundations%20Machine%20Learning%20Framework/CSCN8010-lab-submissions/students_submissions/8946481/lab10.ipynb#X21sZmlsZQ%3D%3D?line=9'>10</a>\u001b[0m       save_best_only\u001b[39m=\u001b[39m\u001b[39mTrue\u001b[39;00m,\n\u001b[1;32m     <a href='vscode-notebook-cell:/Users/diegobolanos/Library/CloudStorage/OneDrive-ConestogaCollege/Foundations%20Machine%20Learning%20Framework/CSCN8010-lab-submissions/students_submissions/8946481/lab10.ipynb#X21sZmlsZQ%3D%3D?line=10'>11</a>\u001b[0m       monitor\u001b[39m=\u001b[39m\u001b[39m\"\u001b[39m\u001b[39mval_loss\u001b[39m\u001b[39m\"\u001b[39m)\n\u001b[1;32m     <a href='vscode-notebook-cell:/Users/diegobolanos/Library/CloudStorage/OneDrive-ConestogaCollege/Foundations%20Machine%20Learning%20Framework/CSCN8010-lab-submissions/students_submissions/8946481/lab10.ipynb#X21sZmlsZQ%3D%3D?line=11'>12</a>\u001b[0m ]\n\u001b[0;32m---> <a href='vscode-notebook-cell:/Users/diegobolanos/Library/CloudStorage/OneDrive-ConestogaCollege/Foundations%20Machine%20Learning%20Framework/CSCN8010-lab-submissions/students_submissions/8946481/lab10.ipynb#X21sZmlsZQ%3D%3D?line=12'>13</a>\u001b[0m history \u001b[39m=\u001b[39m model\u001b[39m.\u001b[39;49mfit(\n\u001b[1;32m     <a href='vscode-notebook-cell:/Users/diegobolanos/Library/CloudStorage/OneDrive-ConestogaCollege/Foundations%20Machine%20Learning%20Framework/CSCN8010-lab-submissions/students_submissions/8946481/lab10.ipynb#X21sZmlsZQ%3D%3D?line=13'>14</a>\u001b[0m     train_features, train_labels,\n\u001b[1;32m     <a href='vscode-notebook-cell:/Users/diegobolanos/Library/CloudStorage/OneDrive-ConestogaCollege/Foundations%20Machine%20Learning%20Framework/CSCN8010-lab-submissions/students_submissions/8946481/lab10.ipynb#X21sZmlsZQ%3D%3D?line=14'>15</a>\u001b[0m     epochs\u001b[39m=\u001b[39;49m\u001b[39m20\u001b[39;49m,\n\u001b[1;32m     <a href='vscode-notebook-cell:/Users/diegobolanos/Library/CloudStorage/OneDrive-ConestogaCollege/Foundations%20Machine%20Learning%20Framework/CSCN8010-lab-submissions/students_submissions/8946481/lab10.ipynb#X21sZmlsZQ%3D%3D?line=15'>16</a>\u001b[0m     validation_data\u001b[39m=\u001b[39;49m(val_features, val_labels),\n\u001b[1;32m     <a href='vscode-notebook-cell:/Users/diegobolanos/Library/CloudStorage/OneDrive-ConestogaCollege/Foundations%20Machine%20Learning%20Framework/CSCN8010-lab-submissions/students_submissions/8946481/lab10.ipynb#X21sZmlsZQ%3D%3D?line=16'>17</a>\u001b[0m     callbacks\u001b[39m=\u001b[39;49mcallbacks)\n",
      "File \u001b[0;32m~/miniconda/envs/tensorflow_metal/lib/python3.10/site-packages/keras/src/utils/traceback_utils.py:70\u001b[0m, in \u001b[0;36mfilter_traceback.<locals>.error_handler\u001b[0;34m(*args, **kwargs)\u001b[0m\n\u001b[1;32m     67\u001b[0m     filtered_tb \u001b[39m=\u001b[39m _process_traceback_frames(e\u001b[39m.\u001b[39m__traceback__)\n\u001b[1;32m     68\u001b[0m     \u001b[39m# To get the full stack trace, call:\u001b[39;00m\n\u001b[1;32m     69\u001b[0m     \u001b[39m# `tf.debugging.disable_traceback_filtering()`\u001b[39;00m\n\u001b[0;32m---> 70\u001b[0m     \u001b[39mraise\u001b[39;00m e\u001b[39m.\u001b[39mwith_traceback(filtered_tb) \u001b[39mfrom\u001b[39;00m \u001b[39mNone\u001b[39;00m\n\u001b[1;32m     71\u001b[0m \u001b[39mfinally\u001b[39;00m:\n\u001b[1;32m     72\u001b[0m     \u001b[39mdel\u001b[39;00m filtered_tb\n",
      "File \u001b[0;32m/var/folders/1x/jp3vqcs53vv9kxc9f40hgztc0000gn/T/__autograph_generated_filem81kd5zj.py:15\u001b[0m, in \u001b[0;36mouter_factory.<locals>.inner_factory.<locals>.tf__train_function\u001b[0;34m(iterator)\u001b[0m\n\u001b[1;32m     13\u001b[0m \u001b[39mtry\u001b[39;00m:\n\u001b[1;32m     14\u001b[0m     do_return \u001b[39m=\u001b[39m \u001b[39mTrue\u001b[39;00m\n\u001b[0;32m---> 15\u001b[0m     retval_ \u001b[39m=\u001b[39m ag__\u001b[39m.\u001b[39mconverted_call(ag__\u001b[39m.\u001b[39mld(step_function), (ag__\u001b[39m.\u001b[39mld(\u001b[39mself\u001b[39m), ag__\u001b[39m.\u001b[39mld(iterator)), \u001b[39mNone\u001b[39;00m, fscope)\n\u001b[1;32m     16\u001b[0m \u001b[39mexcept\u001b[39;00m:\n\u001b[1;32m     17\u001b[0m     do_return \u001b[39m=\u001b[39m \u001b[39mFalse\u001b[39;00m\n",
      "\u001b[0;31mValueError\u001b[0m: in user code:\n\n    File \"/Users/diegobolanos/miniconda/envs/tensorflow_metal/lib/python3.10/site-packages/keras/src/engine/training.py\", line 1377, in train_function  *\n        return step_function(self, iterator)\n    File \"/Users/diegobolanos/miniconda/envs/tensorflow_metal/lib/python3.10/site-packages/keras/src/engine/training.py\", line 1360, in step_function  **\n        outputs = model.distribute_strategy.run(run_step, args=(data,))\n    File \"/Users/diegobolanos/miniconda/envs/tensorflow_metal/lib/python3.10/site-packages/keras/src/engine/training.py\", line 1349, in run_step  **\n        outputs = model.train_step(data)\n    File \"/Users/diegobolanos/miniconda/envs/tensorflow_metal/lib/python3.10/site-packages/keras/src/engine/training.py\", line 1126, in train_step\n        y_pred = self(x, training=True)\n    File \"/Users/diegobolanos/miniconda/envs/tensorflow_metal/lib/python3.10/site-packages/keras/src/utils/traceback_utils.py\", line 70, in error_handler\n        raise e.with_traceback(filtered_tb) from None\n    File \"/Users/diegobolanos/miniconda/envs/tensorflow_metal/lib/python3.10/site-packages/keras/src/engine/input_spec.py\", line 298, in assert_input_compatibility\n        raise ValueError(\n\n    ValueError: Input 0 of layer \"model_7\" is incompatible with the layer: expected shape=(None, 224, 224, 3), found shape=(None, 7, 7, 512)\n"
     ]
    }
   ],
   "source": [
    "model.compile(\n",
    "    loss='categorical_crossentropy',\n",
    "    optimizer='adam',\n",
    "    metrics=['accuracy']\n",
    ")\n",
    "\n",
    "callbacks = [\n",
    "    keras.callbacks.ModelCheckpoint(\n",
    "      filepath=\"./models/feature_extraction\",\n",
    "      save_best_only=True,\n",
    "      monitor=\"val_loss\")\n",
    "]\n",
    "history = model.fit(\n",
    "    train_features, train_labels,\n",
    "    epochs=20,\n",
    "    validation_data=(val_features, val_labels),\n",
    "    callbacks=callbacks)"
   ]
  },
  {
   "cell_type": "markdown",
   "metadata": {},
   "source": [
    "### Plotting the results"
   ]
  },
  {
   "cell_type": "code",
   "execution_count": 28,
   "metadata": {},
   "outputs": [
    {
     "data": {
      "image/png": "[encoded data removed]",
      "text/plain": [
       "<Figure size 640x480 with 1 Axes>"
      ]
     },
     "metadata": {},
     "output_type": "display_data"
    },
    {
     "data": {
      "image/png": "[encoded data removed]",
      "text/plain": [
       "<Figure size 640x480 with 1 Axes>"
      ]
     },
     "metadata": {},
     "output_type": "display_data"
    }
   ],
   "source": [
    "import matplotlib.pyplot as plt\n",
    "acc = history.history[\"accuracy\"]\n",
    "val_acc = history.history[\"val_accuracy\"]\n",
    "loss = history.history[\"loss\"]\n",
    "val_loss = history.history[\"val_loss\"]\n",
    "epochs = range(1, len(acc) + 1)\n",
    "plt.plot(epochs, acc, \"bo\", label=\"Training accuracy\")\n",
    "plt.plot(epochs, val_acc, \"b\", label=\"Validation accuracy\")\n",
    "plt.title(\"Training and validation accuracy\")\n",
    "plt.legend()\n",
    "plt.figure()\n",
    "plt.plot(epochs, loss, \"bo\", label=\"Training loss\")\n",
    "plt.plot(epochs, val_loss, \"b\", label=\"Validation loss\")\n",
    "plt.title(\"Training and validation loss\")\n",
    "plt.legend()\n",
    "plt.show()"
   ]
  }
 ],
 "metadata": {
  "kernelspec": {
   "display_name": "tensorflow_metal",
   "language": "python",
   "name": "python3"
  },
  "language_info": {
   "codemirror_mode": {
    "name": "ipython",
    "version": 3
   },
   "file_extension": ".py",
   "mimetype": "text/x-python",
   "name": "python",
   "nbconvert_exporter": "python",
   "pygments_lexer": "ipython3",
   "version": "3.10.13"
  }
 },
 "nbformat": 4,
 "nbformat_minor": 2
}
