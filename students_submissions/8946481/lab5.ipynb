{
 "cells": [
  {
   "cell_type": "code",
   "execution_count": 46,
   "metadata": {},
   "outputs": [],
   "source": [
    "import numpy as np\n",
    "import pandas as pd\n",
    "from sklearn.model_selection import cross_val_score\n",
    "from sklearn.calibration import cross_val_predict\n",
    "from sklearn.metrics import r2_score,mean_absolute_error,mean_absolute_percentage_error\n",
    "from sklearn.preprocessing import PolynomialFeatures\n",
    "from sklearn.linear_model import LinearRegression\n",
    "from sklearn.model_selection import train_test_split\n",
    "from sklearn.datasets import load_diabetes\n",
    "from sklearn.pipeline import make_pipeline"
   ]
  },
  {
   "cell_type": "code",
   "execution_count": 47,
   "metadata": {},
   "outputs": [],
   "source": [
    "# Load diabetes dataset\n",
    "X, y = load_diabetes(return_X_y=True)\n",
    "\n",
    "# Split data into training and testing sets\n",
    "X_train, X_test, y_train, y_test = train_test_split(X, y, test_size=0.2, random_state=42)"
   ]
  },
  {
   "cell_type": "markdown",
   "metadata": {},
   "source": [
    "### Performing cross-validation and showing the results:"
   ]
  },
  {
   "cell_type": "code",
   "execution_count": 48,
   "metadata": {},
   "outputs": [
    {
     "name": "stdout",
     "output_type": "stream",
     "text": [
      "   Degree  Cross validation scores   R-Squared         MAE      MAPE   \n",
      "0       0                -0.139139   -0.008824   66.039250  0.623684  \\\n",
      "1       1                 0.225655    0.495322   44.274856  0.394893   \n",
      "2       2               -84.353812    0.410853   46.602887  0.402750   \n",
      "3       3                -6.180406 -172.927827  340.295172  2.338418   \n",
      "4       4                -6.160489  -71.859940  303.102402  2.453773   \n",
      "5       5                -6.160743  -68.544073  295.638158  2.405314   \n",
      "6       6                -6.164401  -68.611760  295.585132  2.405045   \n",
      "7       7                -6.161375  -68.611367  295.582727  2.405035   \n",
      "8       8                -6.147353  -68.609803  295.558540  2.404842   \n",
      "\n",
      "   R-Squared_mean    MAE_mean  MAPE_mean  R-Squared_std     MAE_std  MAPE_std  \n",
      "0       -0.008824   66.039250   0.623684       0.000000    0.000000  0.000000  \n",
      "1        0.243249   55.157053   0.509289       0.252073   10.882197  0.114395  \n",
      "2        0.299117   52.305664   0.473776       0.220461    9.757509  0.106050  \n",
      "3      -43.007619  124.303041   0.939936      75.009710  124.989094  0.812620  \n",
      "4      -48.778083  160.062913   1.242704      68.076122  132.713574  0.946020  \n",
      "5      -52.072415  182.658788   1.436472      62.579776  131.264154  0.966191  \n",
      "6      -54.435178  198.791122   1.574840      58.225966  127.790153  0.956576  \n",
      "7      -56.207202  210.890073   1.678614      54.666815  123.748637  0.935971  \n",
      "8      -57.585269  220.297680   1.759306      51.687542  119.667141  0.911479  \n"
     ]
    }
   ],
   "source": [
    "# Define the degrees of the polynomial\n",
    "degrees = np.arange(0, 9)\n",
    "\n",
    "# Lists to store the results\n",
    "cross_val_scores = []\n",
    "r2_values = []\n",
    "mae_values = []\n",
    "mape_values = []\n",
    "\n",
    "r2_mean_values = []\n",
    "mae_mean_values = []\n",
    "mape_mean_values = []\n",
    "r2_std_values = []\n",
    "mae_std_values = []\n",
    "mape_std_values = []\n",
    "\n",
    "for degree in degrees:\n",
    "    # Get the polynomial features\n",
    "    # Create a pipeline that creates polynomial features, then applies linear regression\n",
    "    model = make_pipeline(PolynomialFeatures(degree), LinearRegression())\n",
    "\n",
    "    # Calculate the cross-validation score\n",
    "    score = cross_val_score(model, X_test, y_test, cv=5).mean()\n",
    "    cross_val_scores.append(score)\n",
    "    \n",
    "    # Calculate the R-Squared and MAE metrics\n",
    "    y_pred = cross_val_predict(model, X, y, cv=5)\n",
    "    r2 = r2_score(y, y_pred)\n",
    "    mae = mean_absolute_error(y, y_pred)\n",
    "    mape = mean_absolute_percentage_error(y, y_pred)\n",
    "    \n",
    "    r2_values.append(r2)\n",
    "    mae_values.append(mae)\n",
    "    mape_values.append(mape)\n",
    "\n",
    "    # Add results for each degree to the lists\n",
    "    r2_mean_values.append(np.mean(r2_values))\n",
    "    mae_mean_values.append(np.mean(mae_values))\n",
    "    mape_mean_values.append(np.mean(mape_values))\n",
    "    r2_std_values.append(np.std(r2_values))\n",
    "    mae_std_values.append(np.std(mae_values))\n",
    "    mape_std_values.append(np.std(mape_values))\n",
    "\n",
    "# Create a DataFrame for the results\n",
    "cv_results_df = pd.DataFrame({\n",
    "    'Degree': degrees,\n",
    "    'Cross validation scores': cross_val_scores,\n",
    "    'R-Squared': r2_values,\n",
    "    'MAE': mae_values,\n",
    "    'MAPE': mape_values,\n",
    "    'R-Squared_mean': r2_mean_values,\n",
    "    'MAE_mean': mae_mean_values,\n",
    "    'MAPE_mean': mape_mean_values,\n",
    "    'R-Squared_std': r2_std_values,\n",
    "    'MAE_std': mae_std_values,\n",
    "    'MAPE_std': mape_std_values\n",
    "})\n",
    "\n",
    "print(cv_results_df)\n"
   ]
  },
  {
   "cell_type": "markdown",
   "metadata": {},
   "source": [
    "### Identification of the Best Model based on the Cross-Validation Results:"
   ]
  },
  {
   "cell_type": "code",
   "execution_count": 49,
   "metadata": {},
   "outputs": [
    {
     "name": "stdout",
     "output_type": "stream",
     "text": [
      "The best degree is 1\n"
     ]
    }
   ],
   "source": [
    "# Choose the degree with the highest cross-validation score\n",
    "best_degree = degrees[np.argmax(cross_val_scores)]\n",
    "print(f\"The best degree is {best_degree}\")"
   ]
  },
  {
   "cell_type": "markdown",
   "metadata": {},
   "source": [
    "### Identification of the Best Model based on the R-squared, MAE, and MAPE metrics:"
   ]
  },
  {
   "cell_type": "code",
   "execution_count": 50,
   "metadata": {},
   "outputs": [
    {
     "name": "stdout",
     "output_type": "stream",
     "text": [
      "The best degree of R-Squared is 1\n",
      "The best degree of MAE is 1\n",
      "The best degree of MAPE is 1\n"
     ]
    }
   ],
   "source": [
    "# Identify the best model based on R-Squared\n",
    "best_degree_r_squared = degrees[np.argmax(r2_values)]\n",
    "print(f\"The best degree of R-Squared is {best_degree_r_squared}\")\n",
    "\n",
    "# Identify the best model based on MAE\n",
    "best_degree_mae = degrees[np.argmin(mae_values)]\n",
    "print(f\"The best degree of MAE is {best_degree_mae}\")\n",
    "\n",
    "# Identify the best model based on MAPE\n",
    "best_degree_mape = degrees[np.argmin(mape_values)]\n",
    "print(f\"The best degree of MAPE is {best_degree_mape}\")"
   ]
  }
 ],
 "metadata": {
  "kernelspec": {
   "display_name": "Python 3",
   "language": "python",
   "name": "python3"
  },
  "language_info": {
   "codemirror_mode": {
    "name": "ipython",
    "version": 3
   },
   "file_extension": ".py",
   "mimetype": "text/x-python",
   "name": "python",
   "nbconvert_exporter": "python",
   "pygments_lexer": "ipython3",
   "version": "3.11.5"
  }
 },
 "nbformat": 4,
 "nbformat_minor": 2
}
